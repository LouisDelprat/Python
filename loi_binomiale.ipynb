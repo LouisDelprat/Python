{
  "nbformat": 4,
  "nbformat_minor": 0,
  "metadata": {
    "colab": {
      "provenance": []
    },
    "kernelspec": {
      "name": "python3",
      "display_name": "Python 3"
    },
    "language_info": {
      "name": "python"
    }
  },
  "cells": [
    {
      "cell_type": "markdown",
      "source": [
        "#Verification numerique de la loi binomiale et de sa convergence vers la loi normale pour n grand"
      ],
      "metadata": {
        "id": "gKQGUZUuBU5r"
      }
    },
    {
      "cell_type": "code",
      "execution_count": 143,
      "metadata": {
        "id": "gT3IUU5E5rwF"
      },
      "outputs": [],
      "source": [
        "import random as r\n",
        "import matplotlib.pyplot as plt\n",
        "import numpy as np\n",
        "from math import * \n",
        "from scipy.special import comb"
      ]
    },
    {
      "cell_type": "markdown",
      "source": [
        "#Experimentation \n",
        "realise les tirages"
      ],
      "metadata": {
        "id": "kxBs6Vl_HDff"
      }
    },
    {
      "cell_type": "markdown",
      "source": [
        "## Version lente"
      ],
      "metadata": {
        "id": "0C5yeYiVHKcz"
      }
    },
    {
      "cell_type": "code",
      "source": [
        "def tirages_lent(nb_tirages=100,n=10,p=0.7):\n",
        "    \"\"\"\"\n",
        "    Cette fonction permet de faire nb_tirages tirages de n epreuves\n",
        "    La probabilité de succes d'une epreuve est p\n",
        "    Retourne une liste avec la probabilité P(X=k) avec k le nombre de succes\n",
        "    \"\"\" \n",
        "    resultat_tirage = [0]*(n+1)\n",
        "    for j in range(nb_tirages):\n",
        "        nb_succes = 0\n",
        "        rdt = [] #resultat du tirage\n",
        "        for i in range(n):\n",
        "            a=r.random()\n",
        "            if a < p:\n",
        "                nb_succes+=1\n",
        "        resultat_tirage[nb_succes]+=1\n",
        "    prob=[]\n",
        "    for i in range(n+1):\n",
        "        prob.append(resultat_tirage[i]/nb_tirages)\n",
        "    K= [i for i in range(n+1)]\n",
        "    return K,prob"
      ],
      "metadata": {
        "id": "UiSv45oT5wJH"
      },
      "execution_count": 144,
      "outputs": []
    },
    {
      "cell_type": "markdown",
      "source": [
        "## Version optimisée\n",
        "Utilise le numpy pour faire tous les tirages aleatoires d'un seul coup"
      ],
      "metadata": {
        "id": "GHuGdQuoHNmN"
      }
    },
    {
      "cell_type": "code",
      "source": [
        "def tirages_opti(nb_tirages=100,n=10,p=0.7):\n",
        "    \"\"\"\"\n",
        "    Cette fonction permet de faire nb_tirages tirages de n epreuves\n",
        "    La probabilité de succes d'une epreuve est p\n",
        "    Retourne une liste avec la probabilité P(X=k) avec k le nombre de succes\n",
        "    \"\"\" \n",
        "    resultat_tirage = [0]*(n+1)\n",
        "    tirages= np.random.rand(nb_tirages,n)\n",
        "    succes  = tirages<p\n",
        "    nb_succes=np.sum(succes,axis=1)\n",
        "    print\n",
        "    prob=[]\n",
        "    for k in range(n+1):\n",
        "        prob.append(np.sum(nb_succes==k)/nb_tirages)\n",
        "    K= [i for i in range(n+1)]\n",
        "    return K,prob\n"
      ],
      "metadata": {
        "id": "Cx8fOhapHCwf"
      },
      "execution_count": 145,
      "outputs": []
    },
    {
      "cell_type": "code",
      "source": [
        "tirages_opti(100,5,0.5)"
      ],
      "metadata": {
        "colab": {
          "base_uri": "https://localhost:8080/"
        },
        "id": "hLyNGFB-HyyT",
        "outputId": "8949204c-2b27-4437-c8a2-89f152c116c8"
      },
      "execution_count": 146,
      "outputs": [
        {
          "output_type": "execute_result",
          "data": {
            "text/plain": [
              "([0, 1, 2, 3, 4, 5], [0.03, 0.18, 0.34, 0.31, 0.08, 0.06])"
            ]
          },
          "metadata": {},
          "execution_count": 146
        }
      ]
    },
    {
      "cell_type": "markdown",
      "source": [
        "#Parametres\n",
        "\n",
        "Changer les parametres ici:\n",
        "\n",
        "\n",
        "*  n: le nombre d'epreuve\n",
        "*  p: la probabilité de succes\n",
        "*  nb_tirages: nombre de fois ou on refait l'experience\n"
      ],
      "metadata": {
        "id": "8qDZ8C4X-8c_"
      }
    },
    {
      "cell_type": "code",
      "source": [
        "no=3\n",
        "\n",
        "if no ==1:\n",
        "  n = 5\n",
        "  nb_tirages = 100000\n",
        "  p=0.3\n",
        "  print(\"dans cette exemple n est petit donc l'approximation de la loi binomiale par la loi normale ne fonctionne pas\")\n",
        "elif no == 2:\n",
        "  n = 50\n",
        "  nb_tirages = 100000\n",
        "  p=0.3\n",
        "  print(\"dans cette exemple n est grand donc l'approximation de la loi binomiale par la loi normale fonctionne\")\n",
        "else:\n",
        "  n = 50\n",
        "  nb_tirages = 10\n",
        "  p=0.3\n",
        "  print(\"dans cette exemple le nombre de tirage est petit donc les valeur mesurés peuvent etre differentes des valeur theorique des probabilités\")"
      ],
      "metadata": {
        "colab": {
          "base_uri": "https://localhost:8080/"
        },
        "id": "tdyG5Hhj98Tx",
        "outputId": "c3a73fbd-c4ef-4782-d0d6-f008172528ef"
      },
      "execution_count": 147,
      "outputs": [
        {
          "output_type": "stream",
          "name": "stdout",
          "text": [
            "dans cette exemple le nombre de tirage est petit donc les valeur mesurés peuvent etre differentes des valeur theorique des probabilités\n"
          ]
        }
      ]
    },
    {
      "cell_type": "markdown",
      "source": [
        "#Calculs\n",
        "effectue nb_tirages de n epreuve\n",
        "calcule la moyenne ecart type theorique"
      ],
      "metadata": {
        "id": "V9mBO7Zj-nMr"
      }
    },
    {
      "cell_type": "code",
      "source": [
        "K,experimental=tirages_opti(nb_tirages,n,p)\n",
        "esperance = n*p\n",
        "sigma = sqrt(n*p*(1-p))\n",
        "print('esperance:',esperance,'ecart-type:',sigma)"
      ],
      "metadata": {
        "colab": {
          "base_uri": "https://localhost:8080/"
        },
        "id": "yjeA6fpS-q7l",
        "outputId": "0e21cf75-d81b-4142-c806-2e7d61476e35"
      },
      "execution_count": 148,
      "outputs": [
        {
          "output_type": "stream",
          "name": "stdout",
          "text": [
            "esperance: 15.0 ecart-type: 3.24037034920393\n"
          ]
        }
      ]
    },
    {
      "cell_type": "markdown",
      "source": [
        "#Affichage\n",
        "## Comparaison avec la valeur theorique de la loi binomiale"
      ],
      "metadata": {
        "id": "ZLWZT5eI-AL7"
      }
    },
    {
      "cell_type": "code",
      "source": [
        "def loi_Binomiale(n):\n",
        "  Pb=[]\n",
        "  for k in range(n+1):\n",
        "    Pb.append(comb(n,k)*p**k*(1-p)**(n-k))\n",
        "  return Pb"
      ],
      "metadata": {
        "id": "ksYs6DsqDmES"
      },
      "execution_count": 149,
      "outputs": []
    },
    {
      "cell_type": "code",
      "source": [
        "prob_binomiale=loi_Binomiale(n)\n",
        "plt.figure()\n",
        "plt.bar(K,experimental,label='mesure')\n",
        "y=plt.ylim()\n",
        "plt.plot([esperance,esperance],y,'r',label='esperance')\n",
        "plt.plot(K,prob_binomiale,'g',label = 'loi binomiale')\n",
        "plt.legend()\n",
        "plt.xlabel('nb succes')\n",
        "plt.ylabel('probabilité')"
      ],
      "metadata": {
        "colab": {
          "base_uri": "https://localhost:8080/",
          "height": 296
        },
        "id": "Hiy-X3ZJEYm5",
        "outputId": "d73d8079-b2bc-4f07-8610-fa5b85bb00b6"
      },
      "execution_count": 150,
      "outputs": [
        {
          "output_type": "execute_result",
          "data": {
            "text/plain": [
              "Text(0, 0.5, 'probabilité')"
            ]
          },
          "metadata": {},
          "execution_count": 150
        },
        {
          "output_type": "display_data",
          "data": {
            "text/plain": [
              "<Figure size 432x288 with 1 Axes>"
            ],
            "image/png": "[encoded data removed]"
          },
          "metadata": {
            "needs_background": "light"
          }
        }
      ]
    },
    {
      "cell_type": "markdown",
      "source": [
        "## Comparaison de la loi binomiale avec la loi normale (valide uniquement pour n suffisament grand)"
      ],
      "metadata": {
        "id": "9ioYwlq3B2pG"
      }
    },
    {
      "cell_type": "code",
      "source": [
        "def loi_normale(sigma,mu,n):\n",
        "  Z=np.linspace(0,n,60)\n",
        "  Pz=1/(sigma*sqrt(2*pi))*np.exp(-0.5*((Z-mu)/sigma)**2)\n",
        "  return Z,Pz"
      ],
      "metadata": {
        "id": "S8JAgjLxFnfI"
      },
      "execution_count": 151,
      "outputs": []
    },
    {
      "cell_type": "code",
      "source": [
        "Z,Pz=loi_normale(sigma,esperance, n)\n",
        "plt.figure()\n",
        "plt.bar(K,experimental,label='mesure')\n",
        "y=plt.ylim()\n",
        "plt.plot([esperance,esperance],y,'r',label='esperance')\n",
        "\n",
        "plt.plot(Z,Pz,'g',label = 'loi normale')\n",
        "plt.legend()\n",
        "plt.xlabel('nb succes')\n",
        "plt.ylabel('probabilité')"
      ],
      "metadata": {
        "colab": {
          "base_uri": "https://localhost:8080/",
          "height": 296
        },
        "id": "MmmF7C225yRo",
        "outputId": "8ceb5140-85d4-4c9a-f8d4-51f12adee846"
      },
      "execution_count": 152,
      "outputs": [
        {
          "output_type": "execute_result",
          "data": {
            "text/plain": [
              "Text(0, 0.5, 'probabilité')"
            ]
          },
          "metadata": {},
          "execution_count": 152
        },
        {
          "output_type": "display_data",
          "data": {
            "text/plain": [
              "<Figure size 432x288 with 1 Axes>"
            ],
            "image/png": "[encoded data removed]"
          },
          "metadata": {
            "needs_background": "light"
          }
        }
      ]
    },
    {
      "cell_type": "code",
      "source": [
        "plt.figure()\n",
        "plt.bar(K,experimental,label='mesure')\n",
        "y=plt.ylim()\n",
        "plt.plot([esperance,esperance],y,'r',label='esperance')\n",
        "plt.plot(K,prob_binomiale,'g',label = 'loi binomiale')\n",
        "plt.plot(Z,Pz,'m',label = 'loi normale')\n",
        "plt.legend()\n",
        "plt.xlabel('nb succes')\n",
        "plt.ylabel('probabilité')\n"
      ],
      "metadata": {
        "colab": {
          "base_uri": "https://localhost:8080/",
          "height": 296
        },
        "id": "MwMEsVbDKp_J",
        "outputId": "e74f80a0-d611-4b71-f5eb-cf0a7be3db83"
      },
      "execution_count": 153,
      "outputs": [
        {
          "output_type": "execute_result",
          "data": {
            "text/plain": [
              "Text(0, 0.5, 'probabilité')"
            ]
          },
          "metadata": {},
          "execution_count": 153
        },
        {
          "output_type": "display_data",
          "data": {
            "text/plain": [
              "<Figure size 432x288 with 1 Axes>"
            ],
            "image/png": "[encoded data removed]"
          },
          "metadata": {
            "needs_background": "light"
          }
        }
      ]
    }
  ]
}